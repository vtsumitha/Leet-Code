{
 "cells": [
  {
   "cell_type": "markdown",
   "id": "43a223ea",
   "metadata": {},
   "source": [
    "# 3. Longest Substring Without Repeating Characters"
   ]
  },
  {
   "cell_type": "code",
   "execution_count": 1,
   "id": "e8fc1634",
   "metadata": {},
   "outputs": [],
   "source": [
    "# Problem to find longest substring wothout repeating characters\n",
    "def lengthOfLongestSubstring(s):\n",
    "    seen = ''\n",
    "    max_len = 0\n",
    "    \n",
    "    #Iterate overall all characters\n",
    "    for i in s:\n",
    "        \n",
    "        #if the character is new, then add it to seen\n",
    "        if i not in seen:\n",
    "            seen+=i\n",
    "            \n",
    "        #Else, reinitialize seen\n",
    "        else:\n",
    "            seen = seen[seen.index(i)+1:] + i\n",
    "            \n",
    "        #Find the longest substring using max\n",
    "        max_len = max(max_len, len(seen))\n",
    "        \n",
    "    return max_len"
   ]
  },
  {
   "cell_type": "markdown",
   "id": "b867dcd1",
   "metadata": {},
   "source": [
    "# Test Cases"
   ]
  },
  {
   "cell_type": "code",
   "execution_count": 2,
   "id": "085ed481",
   "metadata": {},
   "outputs": [
    {
     "data": {
      "text/plain": [
       "3"
      ]
     },
     "execution_count": 2,
     "metadata": {},
     "output_type": "execute_result"
    }
   ],
   "source": [
    "lengthOfLongestSubstring('abcabcbb')"
   ]
  },
  {
   "cell_type": "code",
   "execution_count": 3,
   "id": "9ce55fb7",
   "metadata": {},
   "outputs": [
    {
     "data": {
      "text/plain": [
       "1"
      ]
     },
     "execution_count": 3,
     "metadata": {},
     "output_type": "execute_result"
    }
   ],
   "source": [
    "lengthOfLongestSubstring('bbbb')"
   ]
  },
  {
   "cell_type": "code",
   "execution_count": 5,
   "id": "9d6438a9",
   "metadata": {},
   "outputs": [
    {
     "data": {
      "text/plain": [
       "3"
      ]
     },
     "execution_count": 5,
     "metadata": {},
     "output_type": "execute_result"
    }
   ],
   "source": [
    "lengthOfLongestSubstring('pwwkew')"
   ]
  }
 ],
 "metadata": {
  "kernelspec": {
   "display_name": "Python 3",
   "language": "python",
   "name": "python3"
  },
  "language_info": {
   "codemirror_mode": {
    "name": "ipython",
    "version": 3
   },
   "file_extension": ".py",
   "mimetype": "text/x-python",
   "name": "python",
   "nbconvert_exporter": "python",
   "pygments_lexer": "ipython3",
   "version": "3.8.8"
  }
 },
 "nbformat": 4,
 "nbformat_minor": 5
}
