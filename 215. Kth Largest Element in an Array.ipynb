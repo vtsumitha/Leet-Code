{
 "cells": [
  {
   "cell_type": "markdown",
   "id": "43a223ea",
   "metadata": {},
   "source": [
    "# 215. Kth Largest Element in an Array (Using Heap)"
   ]
  },
  {
   "cell_type": "code",
   "execution_count": 1,
   "id": "e8fc1634",
   "metadata": {},
   "outputs": [],
   "source": [
    "import heapq\n",
    "def findKthLargest(nums, k):\n",
    "    heap = []\n",
    "    for i in nums:\n",
    "        \n",
    "        #If the heap size is less than k, add it the heap\n",
    "        if len(heap)<k:\n",
    "            heapq.heappush(heap,i)\n",
    "            \n",
    "        #else, compare the top of the heap with the element, it the top element is smaller, do a push pop to the heap\n",
    "        elif i>heap[0]:\n",
    "            heapq.heappushpop(heap,i)\n",
    "            \n",
    "    # return the smallest element in the heap which is the kth largest element\n",
    "    return heapq.heappop(heap)\n"
   ]
  },
  {
   "cell_type": "markdown",
   "id": "b867dcd1",
   "metadata": {},
   "source": [
    "# Test Cases"
   ]
  },
  {
   "cell_type": "code",
   "execution_count": 2,
   "id": "085ed481",
   "metadata": {},
   "outputs": [
    {
     "data": {
      "text/plain": [
       "0"
      ]
     },
     "execution_count": 2,
     "metadata": {},
     "output_type": "execute_result"
    }
   ],
   "source": [
    "findKthLargest([-1,2,0], 2)"
   ]
  },
  {
   "cell_type": "code",
   "execution_count": 3,
   "id": "9ce55fb7",
   "metadata": {},
   "outputs": [
    {
     "data": {
      "text/plain": [
       "5"
      ]
     },
     "execution_count": 3,
     "metadata": {},
     "output_type": "execute_result"
    }
   ],
   "source": [
    "findKthLargest(nums = [3,2,1,5,6,4], k = 2)"
   ]
  },
  {
   "cell_type": "code",
   "execution_count": 4,
   "id": "9d6438a9",
   "metadata": {},
   "outputs": [
    {
     "data": {
      "text/plain": [
       "4"
      ]
     },
     "execution_count": 4,
     "metadata": {},
     "output_type": "execute_result"
    }
   ],
   "source": [
    "findKthLargest(nums = [3,2,3,1,2,4,5,5,6], k = 4)"
   ]
  }
 ],
 "metadata": {
  "kernelspec": {
   "display_name": "Python 3",
   "language": "python",
   "name": "python3"
  },
  "language_info": {
   "codemirror_mode": {
    "name": "ipython",
    "version": 3
   },
   "file_extension": ".py",
   "mimetype": "text/x-python",
   "name": "python",
   "nbconvert_exporter": "python",
   "pygments_lexer": "ipython3",
   "version": "3.8.8"
  }
 },
 "nbformat": 4,
 "nbformat_minor": 5
}
