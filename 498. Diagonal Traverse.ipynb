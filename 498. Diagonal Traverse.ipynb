{
 "cells": [
  {
   "cell_type": "markdown",
   "id": "43a223ea",
   "metadata": {},
   "source": [
    "# 498. Diagonal Traverse"
   ]
  },
  {
   "cell_type": "code",
   "execution_count": 1,
   "id": "e8fc1634",
   "metadata": {},
   "outputs": [],
   "source": [
    "def findDiagonalOrder(matrix):\n",
    "    d = {}\n",
    "    result = []\n",
    "    \n",
    "    #The diagonal elements will have the same row + col value, we can use that as our hash key\n",
    "    for i in range(0,len(matrix)):\n",
    "        for j in range(0, len(matrix[0])):\n",
    "            if i+j not in d:\n",
    "                d[i+j] = [matrix[i][j]]\n",
    "            else:\n",
    "                d[i+j].append(matrix[i][j])\n",
    "                \n",
    "    #When the hash key is even, then we reverse the elements, else append as is\n",
    "    #i.e reverse the even numbered diagonals\n",
    "    for i,j in d.items():\n",
    "        if i % 2 != 0:\n",
    "            result = result + (j)\n",
    "        else:\n",
    "            result += j[::-1]\n",
    "    return result\n",
    "            "
   ]
  },
  {
   "cell_type": "markdown",
   "id": "b867dcd1",
   "metadata": {},
   "source": [
    "# Test Cases"
   ]
  },
  {
   "cell_type": "code",
   "execution_count": 2,
   "id": "085ed481",
   "metadata": {},
   "outputs": [
    {
     "data": {
      "text/plain": [
       "[1, 2, 3, 4]"
      ]
     },
     "execution_count": 2,
     "metadata": {},
     "output_type": "execute_result"
    }
   ],
   "source": [
    "findDiagonalOrder([[1,2],[3,4]])"
   ]
  },
  {
   "cell_type": "code",
   "execution_count": 3,
   "id": "9ce55fb7",
   "metadata": {},
   "outputs": [
    {
     "data": {
      "text/plain": [
       "[1, 2, 4, 7, 5, 3, 6, 8, 9]"
      ]
     },
     "execution_count": 3,
     "metadata": {},
     "output_type": "execute_result"
    }
   ],
   "source": [
    "findDiagonalOrder([[1,2,3],[4,5,6],[7,8,9]])"
   ]
  }
 ],
 "metadata": {
  "kernelspec": {
   "display_name": "Python 3",
   "language": "python",
   "name": "python3"
  },
  "language_info": {
   "codemirror_mode": {
    "name": "ipython",
    "version": 3
   },
   "file_extension": ".py",
   "mimetype": "text/x-python",
   "name": "python",
   "nbconvert_exporter": "python",
   "pygments_lexer": "ipython3",
   "version": "3.8.8"
  }
 },
 "nbformat": 4,
 "nbformat_minor": 5
}
