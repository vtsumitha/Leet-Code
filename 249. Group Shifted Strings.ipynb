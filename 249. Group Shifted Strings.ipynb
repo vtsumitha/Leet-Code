{
 "cells": [
  {
   "cell_type": "markdown",
   "id": "43a223ea",
   "metadata": {},
   "source": [
    "# 249. Group Shifted Strings"
   ]
  },
  {
   "cell_type": "code",
   "execution_count": 1,
   "id": "e8fc1634",
   "metadata": {},
   "outputs": [],
   "source": [
    "def groupStrings(strings):\n",
    "    \n",
    "    #Calculate the number of shifts to make the first character in the string 'a'\n",
    "    def shift(s):\n",
    "        shift = ord(s[0])\n",
    "        result = ''.join(chr((shift - ord(i)) % 26 + ord('a')) for i in s)\n",
    "        return result\n",
    "    \n",
    "    #store the strings in the dictionary with the root word of the shift as the key\n",
    "    d = {}\n",
    "    for i in strings:\n",
    "        key = shift(i)\n",
    "        if key in d:\n",
    "            d[key].append(i)\n",
    "        else:\n",
    "            d[key] = [i]\n",
    "            \n",
    "    return d.values()"
   ]
  },
  {
   "cell_type": "markdown",
   "id": "b867dcd1",
   "metadata": {},
   "source": [
    "# Test Cases"
   ]
  },
  {
   "cell_type": "code",
   "execution_count": 2,
   "id": "085ed481",
   "metadata": {},
   "outputs": [
    {
     "data": {
      "text/plain": [
       "dict_values([['abc', 'bcd', 'xyz'], ['acef'], ['az', 'ba'], ['a', 'z']])"
      ]
     },
     "execution_count": 2,
     "metadata": {},
     "output_type": "execute_result"
    }
   ],
   "source": [
    "groupStrings([\"abc\",\"bcd\",\"acef\",\"xyz\",\"az\",\"ba\",\"a\",\"z\"])"
   ]
  },
  {
   "cell_type": "code",
   "execution_count": 3,
   "id": "9ce55fb7",
   "metadata": {},
   "outputs": [
    {
     "data": {
      "text/plain": [
       "dict_values([['a']])"
      ]
     },
     "execution_count": 3,
     "metadata": {},
     "output_type": "execute_result"
    }
   ],
   "source": [
    "groupStrings([\"a\"])"
   ]
  },
  {
   "cell_type": "code",
   "execution_count": 4,
   "id": "193f6279",
   "metadata": {},
   "outputs": [
    {
     "data": {
      "text/plain": [
       "dict_values([['abcd', 'efgh'], ['bcdef', 'xyzab']])"
      ]
     },
     "execution_count": 4,
     "metadata": {},
     "output_type": "execute_result"
    }
   ],
   "source": [
    "groupStrings([\"abcd\",\"bcdef\",\"efgh\",\"xyzab\"])"
   ]
  }
 ],
 "metadata": {
  "kernelspec": {
   "display_name": "Python 3",
   "language": "python",
   "name": "python3"
  },
  "language_info": {
   "codemirror_mode": {
    "name": "ipython",
    "version": 3
   },
   "file_extension": ".py",
   "mimetype": "text/x-python",
   "name": "python",
   "nbconvert_exporter": "python",
   "pygments_lexer": "ipython3",
   "version": "3.8.8"
  }
 },
 "nbformat": 4,
 "nbformat_minor": 5
}
